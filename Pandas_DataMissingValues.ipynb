{
 "cells": [
  {
   "cell_type": "markdown",
   "id": "cf06814d",
   "metadata": {
    "papermill": {
     "duration": 0.003864,
     "end_time": "2025-01-20T20:37:15.535408",
     "exception": false,
     "start_time": "2025-01-20T20:37:15.531544",
     "status": "completed"
    },
    "tags": []
   },
   "source": [
    "**This notebook is an exercise in the [Pandas](https://www.kaggle.com/learn/pandas) course.  You can reference the tutorial at [this link](https://www.kaggle.com/residentmario/data-types-and-missing-values).**\n",
    "\n",
    "---\n"
   ]
  },
  {
   "cell_type": "markdown",
   "id": "f25638dc",
   "metadata": {
    "papermill": {
     "duration": 0.002433,
     "end_time": "2025-01-20T20:37:15.540503",
     "exception": false,
     "start_time": "2025-01-20T20:37:15.538070",
     "status": "completed"
    },
    "tags": []
   },
   "source": [
    "# Introduction\n",
    "\n",
    "Run the following cell to load your data and some utility functions."
   ]
  },
  {
   "cell_type": "code",
   "execution_count": 1,
   "id": "228c2694",
   "metadata": {
    "execution": {
     "iopub.execute_input": "2025-01-20T20:37:15.546861Z",
     "iopub.status.busy": "2025-01-20T20:37:15.546577Z",
     "iopub.status.idle": "2025-01-20T20:37:18.586076Z",
     "shell.execute_reply": "2025-01-20T20:37:18.585334Z"
    },
    "papermill": {
     "duration": 3.044122,
     "end_time": "2025-01-20T20:37:18.587247",
     "exception": false,
     "start_time": "2025-01-20T20:37:15.543125",
     "status": "completed"
    },
    "tags": []
   },
   "outputs": [
    {
     "name": "stdout",
     "output_type": "stream",
     "text": [
      "Setup complete.\n"
     ]
    },
    {
     "data": {
      "text/plain": [
       "Index(['country', 'description', 'designation', 'points', 'price', 'province',\n",
       "       'region_1', 'region_2', 'taster_name', 'taster_twitter_handle', 'title',\n",
       "       'variety', 'winery'],\n",
       "      dtype='object')"
      ]
     },
     "execution_count": 1,
     "metadata": {},
     "output_type": "execute_result"
    }
   ],
   "source": [
    "import pandas as pd\n",
    "\n",
    "reviews = pd.read_csv(\"../input/wine-reviews/winemag-data-130k-v2.csv\", index_col=0)\n",
    "\n",
    "from learntools.core import binder; binder.bind(globals())\n",
    "from learntools.pandas.data_types_and_missing_data import *\n",
    "print(\"Setup complete.\")\n",
    "reviews.index.values\n",
    "reviews.columns\n",
    "\n"
   ]
  },
  {
   "cell_type": "markdown",
   "id": "58c9b852",
   "metadata": {
    "papermill": {
     "duration": 0.00243,
     "end_time": "2025-01-20T20:37:18.592534",
     "exception": false,
     "start_time": "2025-01-20T20:37:18.590104",
     "status": "completed"
    },
    "tags": []
   },
   "source": [
    "# Exercises"
   ]
  },
  {
   "cell_type": "markdown",
   "id": "471feb9f",
   "metadata": {
    "papermill": {
     "duration": 0.002358,
     "end_time": "2025-01-20T20:37:18.597361",
     "exception": false,
     "start_time": "2025-01-20T20:37:18.595003",
     "status": "completed"
    },
    "tags": []
   },
   "source": [
    "## 1. \n",
    "What is the data type of the `points` column in the dataset?"
   ]
  },
  {
   "cell_type": "code",
   "execution_count": 2,
   "id": "1134e99e",
   "metadata": {
    "execution": {
     "iopub.execute_input": "2025-01-20T20:37:18.603613Z",
     "iopub.status.busy": "2025-01-20T20:37:18.603332Z",
     "iopub.status.idle": "2025-01-20T20:37:18.609462Z",
     "shell.execute_reply": "2025-01-20T20:37:18.608689Z"
    },
    "papermill": {
     "duration": 0.010956,
     "end_time": "2025-01-20T20:37:18.610788",
     "exception": false,
     "start_time": "2025-01-20T20:37:18.599832",
     "status": "completed"
    },
    "tags": []
   },
   "outputs": [
    {
     "data": {
      "application/javascript": [
       "parent.postMessage({\"jupyterEvent\": \"custom.exercise_interaction\", \"data\": {\"outcomeType\": 1, \"valueTowardsCompletion\": 0.25, \"interactionType\": 1, \"questionType\": 1, \"questionId\": \"1_PointsDtype\", \"learnToolsVersion\": \"0.3.4\", \"failureMessage\": \"\", \"exceptionClass\": \"\", \"trace\": \"\"}}, \"*\")"
      ],
      "text/plain": [
       "<IPython.core.display.Javascript object>"
      ]
     },
     "metadata": {},
     "output_type": "display_data"
    },
    {
     "data": {
      "text/markdown": [
       "<span style=\"color:#33cc33\">Correct</span>"
      ],
      "text/plain": [
       "Correct"
      ]
     },
     "metadata": {},
     "output_type": "display_data"
    }
   ],
   "source": [
    "# Your code here\n",
    "dtype = reviews.points.dtype\n",
    "\n",
    "# Check your answer\n",
    "q1.check()"
   ]
  },
  {
   "cell_type": "code",
   "execution_count": 3,
   "id": "3e118854",
   "metadata": {
    "execution": {
     "iopub.execute_input": "2025-01-20T20:37:18.617773Z",
     "iopub.status.busy": "2025-01-20T20:37:18.617521Z",
     "iopub.status.idle": "2025-01-20T20:37:18.620402Z",
     "shell.execute_reply": "2025-01-20T20:37:18.619698Z"
    },
    "papermill": {
     "duration": 0.007586,
     "end_time": "2025-01-20T20:37:18.621570",
     "exception": false,
     "start_time": "2025-01-20T20:37:18.613984",
     "status": "completed"
    },
    "tags": []
   },
   "outputs": [],
   "source": [
    "#q1.hint()\n",
    "#q1.solution()"
   ]
  },
  {
   "cell_type": "markdown",
   "id": "5432e21f",
   "metadata": {
    "papermill": {
     "duration": 0.00275,
     "end_time": "2025-01-20T20:37:18.627386",
     "exception": false,
     "start_time": "2025-01-20T20:37:18.624636",
     "status": "completed"
    },
    "tags": []
   },
   "source": [
    "## 2. \n",
    "Create a Series from entries in the `points` column, but convert the entries to strings. Hint: strings are `str` in native Python."
   ]
  },
  {
   "cell_type": "code",
   "execution_count": 4,
   "id": "e24c55ca",
   "metadata": {
    "execution": {
     "iopub.execute_input": "2025-01-20T20:37:18.634018Z",
     "iopub.status.busy": "2025-01-20T20:37:18.633761Z",
     "iopub.status.idle": "2025-01-20T20:37:18.662853Z",
     "shell.execute_reply": "2025-01-20T20:37:18.662039Z"
    },
    "papermill": {
     "duration": 0.033756,
     "end_time": "2025-01-20T20:37:18.663968",
     "exception": false,
     "start_time": "2025-01-20T20:37:18.630212",
     "status": "completed"
    },
    "tags": []
   },
   "outputs": [
    {
     "data": {
      "application/javascript": [
       "parent.postMessage({\"jupyterEvent\": \"custom.exercise_interaction\", \"data\": {\"outcomeType\": 1, \"valueTowardsCompletion\": 0.25, \"interactionType\": 1, \"questionType\": 1, \"questionId\": \"2_StrPoints\", \"learnToolsVersion\": \"0.3.4\", \"failureMessage\": \"\", \"exceptionClass\": \"\", \"trace\": \"\"}}, \"*\")"
      ],
      "text/plain": [
       "<IPython.core.display.Javascript object>"
      ]
     },
     "metadata": {},
     "output_type": "display_data"
    },
    {
     "data": {
      "text/markdown": [
       "<span style=\"color:#33cc33\">Correct</span>"
      ],
      "text/plain": [
       "Correct"
      ]
     },
     "metadata": {},
     "output_type": "display_data"
    }
   ],
   "source": [
    "point_strings = reviews.points.astype('str')\n",
    "\n",
    "# Check your answer\n",
    "q2.check()"
   ]
  },
  {
   "cell_type": "code",
   "execution_count": 5,
   "id": "d0f609ac",
   "metadata": {
    "execution": {
     "iopub.execute_input": "2025-01-20T20:37:18.670915Z",
     "iopub.status.busy": "2025-01-20T20:37:18.670722Z",
     "iopub.status.idle": "2025-01-20T20:37:18.673689Z",
     "shell.execute_reply": "2025-01-20T20:37:18.673008Z"
    },
    "papermill": {
     "duration": 0.007474,
     "end_time": "2025-01-20T20:37:18.674739",
     "exception": false,
     "start_time": "2025-01-20T20:37:18.667265",
     "status": "completed"
    },
    "tags": []
   },
   "outputs": [],
   "source": [
    "#q2.hint()\n",
    "#q2.solution()"
   ]
  },
  {
   "cell_type": "markdown",
   "id": "36303aa3",
   "metadata": {
    "papermill": {
     "duration": 0.002827,
     "end_time": "2025-01-20T20:37:18.680752",
     "exception": false,
     "start_time": "2025-01-20T20:37:18.677925",
     "status": "completed"
    },
    "tags": []
   },
   "source": [
    "## 3.\n",
    "Sometimes the price column is null. How many reviews in the dataset are missing a price?"
   ]
  },
  {
   "cell_type": "code",
   "execution_count": 6,
   "id": "8d07c80a",
   "metadata": {
    "execution": {
     "iopub.execute_input": "2025-01-20T20:37:18.687685Z",
     "iopub.status.busy": "2025-01-20T20:37:18.687428Z",
     "iopub.status.idle": "2025-01-20T20:37:18.693706Z",
     "shell.execute_reply": "2025-01-20T20:37:18.692920Z"
    },
    "papermill": {
     "duration": 0.011222,
     "end_time": "2025-01-20T20:37:18.694886",
     "exception": false,
     "start_time": "2025-01-20T20:37:18.683664",
     "status": "completed"
    },
    "tags": []
   },
   "outputs": [
    {
     "data": {
      "application/javascript": [
       "parent.postMessage({\"jupyterEvent\": \"custom.exercise_interaction\", \"data\": {\"outcomeType\": 1, \"valueTowardsCompletion\": 0.25, \"interactionType\": 1, \"questionType\": 1, \"questionId\": \"3_CountMissingPrices\", \"learnToolsVersion\": \"0.3.4\", \"failureMessage\": \"\", \"exceptionClass\": \"\", \"trace\": \"\"}}, \"*\")"
      ],
      "text/plain": [
       "<IPython.core.display.Javascript object>"
      ]
     },
     "metadata": {},
     "output_type": "display_data"
    },
    {
     "data": {
      "text/markdown": [
       "<span style=\"color:#33cc33\">Correct</span>"
      ],
      "text/plain": [
       "Correct"
      ]
     },
     "metadata": {},
     "output_type": "display_data"
    }
   ],
   "source": [
    "n_missing_prices = reviews.price.isnull().sum()\n",
    "\n",
    "# Check your answer\n",
    "q3.check()"
   ]
  },
  {
   "cell_type": "code",
   "execution_count": 7,
   "id": "febcf484",
   "metadata": {
    "execution": {
     "iopub.execute_input": "2025-01-20T20:37:18.702922Z",
     "iopub.status.busy": "2025-01-20T20:37:18.702606Z",
     "iopub.status.idle": "2025-01-20T20:37:18.706315Z",
     "shell.execute_reply": "2025-01-20T20:37:18.705326Z"
    },
    "papermill": {
     "duration": 0.008974,
     "end_time": "2025-01-20T20:37:18.707457",
     "exception": false,
     "start_time": "2025-01-20T20:37:18.698483",
     "status": "completed"
    },
    "tags": []
   },
   "outputs": [],
   "source": [
    "#q3.hint()\n",
    "#q3.solution()"
   ]
  },
  {
   "cell_type": "markdown",
   "id": "82c84eef",
   "metadata": {
    "papermill": {
     "duration": 0.002939,
     "end_time": "2025-01-20T20:37:18.714059",
     "exception": false,
     "start_time": "2025-01-20T20:37:18.711120",
     "status": "completed"
    },
    "tags": []
   },
   "source": [
    "## 4.\n",
    "What are the most common wine-producing regions? Create a Series counting the number of times each value occurs in the `region_1` field. This field is often missing data, so replace missing values with `Unknown`. Sort in descending order.  Your output should look something like this:\n",
    "\n",
    "```\n",
    "Unknown                    21247\n",
    "Napa Valley                 4480\n",
    "                           ...  \n",
    "Bardolino Superiore            1\n",
    "Primitivo del Tarantino        1\n",
    "Name: region_1, Length: 1230, dtype: int64\n",
    "```"
   ]
  },
  {
   "cell_type": "code",
   "execution_count": 8,
   "id": "ace8ce4c",
   "metadata": {
    "execution": {
     "iopub.execute_input": "2025-01-20T20:37:18.721593Z",
     "iopub.status.busy": "2025-01-20T20:37:18.721296Z",
     "iopub.status.idle": "2025-01-20T20:37:18.755475Z",
     "shell.execute_reply": "2025-01-20T20:37:18.754773Z"
    },
    "papermill": {
     "duration": 0.039354,
     "end_time": "2025-01-20T20:37:18.756654",
     "exception": false,
     "start_time": "2025-01-20T20:37:18.717300",
     "status": "completed"
    },
    "tags": []
   },
   "outputs": [
    {
     "data": {
      "application/javascript": [
       "parent.postMessage({\"jupyterEvent\": \"custom.exercise_interaction\", \"data\": {\"outcomeType\": 1, \"valueTowardsCompletion\": 0.25, \"interactionType\": 1, \"questionType\": 2, \"questionId\": \"4_ReviewsPerRegion\", \"learnToolsVersion\": \"0.3.4\", \"failureMessage\": \"\", \"exceptionClass\": \"\", \"trace\": \"\"}}, \"*\")"
      ],
      "text/plain": [
       "<IPython.core.display.Javascript object>"
      ]
     },
     "metadata": {},
     "output_type": "display_data"
    },
    {
     "data": {
      "text/markdown": [
       "<span style=\"color:#33cc33\">Correct</span>"
      ],
      "text/plain": [
       "Correct"
      ]
     },
     "metadata": {},
     "output_type": "display_data"
    }
   ],
   "source": [
    "\n",
    "#reviews_per_region  = reviews.loc[reviews['region_1'].fillna('Unknown').index, :].groupby('region_1').size().sort_values(ascending = False)\n",
    "reviews_per_region  = reviews['region_1'].fillna('Unknown').value_counts().sort_values(ascending=False)\n",
    "# Check your answer\n",
    "q4.check()"
   ]
  },
  {
   "cell_type": "code",
   "execution_count": 9,
   "id": "a4d2cb66",
   "metadata": {
    "execution": {
     "iopub.execute_input": "2025-01-20T20:37:18.764435Z",
     "iopub.status.busy": "2025-01-20T20:37:18.764130Z",
     "iopub.status.idle": "2025-01-20T20:37:18.769950Z",
     "shell.execute_reply": "2025-01-20T20:37:18.769052Z"
    },
    "papermill": {
     "duration": 0.010922,
     "end_time": "2025-01-20T20:37:18.771077",
     "exception": false,
     "start_time": "2025-01-20T20:37:18.760155",
     "status": "completed"
    },
    "tags": []
   },
   "outputs": [
    {
     "data": {
      "application/javascript": [
       "parent.postMessage({\"jupyterEvent\": \"custom.exercise_interaction\", \"data\": {\"interactionType\": 3, \"questionType\": 2, \"questionId\": \"4_ReviewsPerRegion\", \"learnToolsVersion\": \"0.3.4\", \"valueTowardsCompletion\": 0.0, \"failureMessage\": \"\", \"exceptionClass\": \"\", \"trace\": \"\", \"outcomeType\": 4}}, \"*\")"
      ],
      "text/plain": [
       "<IPython.core.display.Javascript object>"
      ]
     },
     "metadata": {},
     "output_type": "display_data"
    },
    {
     "data": {
      "text/markdown": [
       "<span style=\"color:#33cc99\">Solution:</span> \n",
       "```python\n",
       "reviews_per_region = reviews.region_1.fillna('Unknown').value_counts().sort_values(ascending=False)\n",
       "```"
      ],
      "text/plain": [
       "Solution: \n",
       "```python\n",
       "reviews_per_region = reviews.region_1.fillna('Unknown').value_counts().sort_values(ascending=False)\n",
       "```"
      ]
     },
     "metadata": {},
     "output_type": "display_data"
    }
   ],
   "source": [
    "#q4.hint()\n",
    "q4.solution()"
   ]
  },
  {
   "cell_type": "markdown",
   "id": "ebcd2d44",
   "metadata": {
    "papermill": {
     "duration": 0.003255,
     "end_time": "2025-01-20T20:37:18.778107",
     "exception": false,
     "start_time": "2025-01-20T20:37:18.774852",
     "status": "completed"
    },
    "tags": []
   },
   "source": [
    "# Keep going\n",
    "\n",
    "Move on to **[renaming and combining](https://www.kaggle.com/residentmario/renaming-and-combining)**."
   ]
  },
  {
   "cell_type": "markdown",
   "id": "78d0a705",
   "metadata": {
    "papermill": {
     "duration": 0.003187,
     "end_time": "2025-01-20T20:37:18.784648",
     "exception": false,
     "start_time": "2025-01-20T20:37:18.781461",
     "status": "completed"
    },
    "tags": []
   },
   "source": [
    "---\n",
    "\n",
    "\n",
    "\n",
    "\n",
    "*Have questions or comments? Visit the [course discussion forum](https://www.kaggle.com/learn/pandas/discussion) to chat with other learners.*"
   ]
  }
 ],
 "metadata": {
  "kaggle": {
   "accelerator": "none",
   "dataSources": [
    {
     "datasetId": 655,
     "sourceId": 1252,
     "sourceType": "datasetVersion"
    },
    {
     "datasetId": 2321,
     "sourceId": 3919,
     "sourceType": "datasetVersion"
    },
    {
     "datasetId": 2894,
     "sourceId": 4877,
     "sourceType": "datasetVersion"
    },
    {
     "datasetId": 3491,
     "sourceId": 5624,
     "sourceType": "datasetVersion"
    },
    {
     "datasetId": 1442,
     "sourceId": 8172,
     "sourceType": "datasetVersion"
    },
    {
     "datasetId": 9366,
     "sourceId": 13206,
     "sourceType": "datasetVersion"
    },
    {
     "datasetId": 179555,
     "sourceId": 403916,
     "sourceType": "datasetVersion"
    },
    {
     "datasetId": 4549,
     "sourceId": 466349,
     "sourceType": "datasetVersion"
    },
    {
     "datasetId": 2478,
     "sourceId": 1151655,
     "sourceType": "datasetVersion"
    },
    {
     "datasetId": 10128,
     "sourceId": 5438389,
     "sourceType": "datasetVersion"
    }
   ],
   "isGpuEnabled": false,
   "isInternetEnabled": true,
   "language": "python",
   "sourceType": "notebook"
  },
  "kernelspec": {
   "display_name": "Python 3",
   "language": "python",
   "name": "python3"
  },
  "language_info": {
   "codemirror_mode": {
    "name": "ipython",
    "version": 3
   },
   "file_extension": ".py",
   "mimetype": "text/x-python",
   "name": "python",
   "nbconvert_exporter": "python",
   "pygments_lexer": "ipython3",
   "version": "3.10.12"
  },
  "papermill": {
   "default_parameters": {},
   "duration": 5.828653,
   "end_time": "2025-01-20T20:37:19.306688",
   "environment_variables": {},
   "exception": null,
   "input_path": "__notebook__.ipynb",
   "output_path": "__notebook__.ipynb",
   "parameters": {},
   "start_time": "2025-01-20T20:37:13.478035",
   "version": "2.6.0"
  }
 },
 "nbformat": 4,
 "nbformat_minor": 5
}
