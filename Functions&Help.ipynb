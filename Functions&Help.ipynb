{
 "cells": [
  {
   "cell_type": "markdown",
   "id": "e6c4f968",
   "metadata": {
    "papermill": {
     "duration": 0.004535,
     "end_time": "2025-01-20T20:22:01.647518",
     "exception": false,
     "start_time": "2025-01-20T20:22:01.642983",
     "status": "completed"
    },
    "tags": []
   },
   "source": [
    "**This notebook is an exercise in the [Python](https://www.kaggle.com/learn/python) course.  You can reference the tutorial at [this link](https://www.kaggle.com/colinmorris/functions-and-getting-help).**\n",
    "\n",
    "---\n"
   ]
  },
  {
   "cell_type": "markdown",
   "id": "64b370d0",
   "metadata": {
    "papermill": {
     "duration": 0.003454,
     "end_time": "2025-01-20T20:22:01.654796",
     "exception": false,
     "start_time": "2025-01-20T20:22:01.651342",
     "status": "completed"
    },
    "tags": []
   },
   "source": [
    "Functions are powerful. Try writing some yourself.\n",
    "\n",
    "As before, don't forget to run the setup code below before jumping into question 1."
   ]
  },
  {
   "cell_type": "code",
   "execution_count": 1,
   "id": "6182920d",
   "metadata": {
    "_kg_hide-input": true,
    "_kg_hide-output": true,
    "execution": {
     "iopub.execute_input": "2025-01-20T20:22:01.663363Z",
     "iopub.status.busy": "2025-01-20T20:22:01.662884Z",
     "iopub.status.idle": "2025-01-20T20:22:02.602613Z",
     "shell.execute_reply": "2025-01-20T20:22:02.601503Z"
    },
    "papermill": {
     "duration": 0.94593,
     "end_time": "2025-01-20T20:22:02.604213",
     "exception": false,
     "start_time": "2025-01-20T20:22:01.658283",
     "status": "completed"
    },
    "tags": []
   },
   "outputs": [
    {
     "name": "stdout",
     "output_type": "stream",
     "text": [
      "Setup complete.\n"
     ]
    }
   ],
   "source": [
    "# SETUP. You don't need to worry for now about what this code does or how it works.\n",
    "from learntools.core import binder; binder.bind(globals())\n",
    "from learntools.python.ex2 import *\n",
    "print('Setup complete.')"
   ]
  },
  {
   "cell_type": "markdown",
   "id": "7eac6ca3",
   "metadata": {
    "papermill": {
     "duration": 0.003619,
     "end_time": "2025-01-20T20:22:02.611766",
     "exception": false,
     "start_time": "2025-01-20T20:22:02.608147",
     "status": "completed"
    },
    "tags": []
   },
   "source": [
    "# 1.\n",
    "\n",
    "Complete the body of the following function according to its docstring.\n",
    "\n",
    "HINT: Python has a built-in function `round`."
   ]
  },
  {
   "cell_type": "code",
   "execution_count": 2,
   "id": "61571b23",
   "metadata": {
    "execution": {
     "iopub.execute_input": "2025-01-20T20:22:02.619918Z",
     "iopub.status.busy": "2025-01-20T20:22:02.619474Z",
     "iopub.status.idle": "2025-01-20T20:22:02.627750Z",
     "shell.execute_reply": "2025-01-20T20:22:02.626946Z"
    },
    "papermill": {
     "duration": 0.013787,
     "end_time": "2025-01-20T20:22:02.629006",
     "exception": false,
     "start_time": "2025-01-20T20:22:02.615219",
     "status": "completed"
    },
    "tags": []
   },
   "outputs": [
    {
     "data": {
      "application/javascript": [
       "parent.postMessage({\"jupyterEvent\": \"custom.exercise_interaction\", \"data\": {\"outcomeType\": 1, \"valueTowardsCompletion\": 0.16666666666666666, \"interactionType\": 1, \"questionType\": 2, \"questionId\": \"1_RoundFunctionProblem\", \"learnToolsVersion\": \"0.3.4\", \"failureMessage\": \"\", \"exceptionClass\": \"\", \"trace\": \"\"}}, \"*\")"
      ],
      "text/plain": [
       "<IPython.core.display.Javascript object>"
      ]
     },
     "metadata": {},
     "output_type": "display_data"
    },
    {
     "data": {
      "text/markdown": [
       "<span style=\"color:#33cc33\">Correct</span>"
      ],
      "text/plain": [
       "Correct"
      ]
     },
     "metadata": {},
     "output_type": "display_data"
    }
   ],
   "source": [
    "def round_to_two_places(num):\n",
    "    \"\"\"Return the given number rounded to two decimal places. \n",
    "    \n",
    "    >>> round_to_two_places(3.14159)\n",
    "    3.14\n",
    "    \"\"\"\n",
    "    # Replace this body with your own code.\n",
    "    # (\"pass\" is a keyword that does literally nothing. We used it as a placeholder\n",
    "    # because after we begin a code block, Python requires at least one line of code)\n",
    "    pass\n",
    "    return round (num , 2)\n",
    "\n",
    "# Check your answer\n",
    "q1.check()"
   ]
  },
  {
   "cell_type": "code",
   "execution_count": 3,
   "id": "d8c45faf",
   "metadata": {
    "execution": {
     "iopub.execute_input": "2025-01-20T20:22:02.637879Z",
     "iopub.status.busy": "2025-01-20T20:22:02.637573Z",
     "iopub.status.idle": "2025-01-20T20:22:02.647441Z",
     "shell.execute_reply": "2025-01-20T20:22:02.646470Z"
    },
    "papermill": {
     "duration": 0.015747,
     "end_time": "2025-01-20T20:22:02.648821",
     "exception": false,
     "start_time": "2025-01-20T20:22:02.633074",
     "status": "completed"
    },
    "tags": []
   },
   "outputs": [
    {
     "data": {
      "application/javascript": [
       "parent.postMessage({\"jupyterEvent\": \"custom.exercise_interaction\", \"data\": {\"interactionType\": 2, \"questionType\": 2, \"questionId\": \"1_RoundFunctionProblem\", \"learnToolsVersion\": \"0.3.4\", \"valueTowardsCompletion\": 0.0, \"failureMessage\": \"\", \"exceptionClass\": \"\", \"trace\": \"\", \"outcomeType\": 4}}, \"*\")"
      ],
      "text/plain": [
       "<IPython.core.display.Javascript object>"
      ]
     },
     "metadata": {},
     "output_type": "display_data"
    },
    {
     "data": {
      "text/markdown": [
       "<span style=\"color:#3366cc\">Hint:</span> Run `help(round)` in the console (or in a code cell) to learn more about the round function. You'll need to use the function's optional second argument."
      ],
      "text/plain": [
       "Hint: Run `help(round)` in the console (or in a code cell) to learn more about the round function. You'll need to use the function's optional second argument."
      ]
     },
     "metadata": {},
     "output_type": "display_data"
    },
    {
     "data": {
      "application/javascript": [
       "parent.postMessage({\"jupyterEvent\": \"custom.exercise_interaction\", \"data\": {\"interactionType\": 3, \"questionType\": 2, \"questionId\": \"1_RoundFunctionProblem\", \"learnToolsVersion\": \"0.3.4\", \"valueTowardsCompletion\": 0.0, \"failureMessage\": \"\", \"exceptionClass\": \"\", \"trace\": \"\", \"outcomeType\": 4}}, \"*\")"
      ],
      "text/plain": [
       "<IPython.core.display.Javascript object>"
      ]
     },
     "metadata": {},
     "output_type": "display_data"
    },
    {
     "data": {
      "text/markdown": [
       "<span style=\"color:#33cc99\">Solution:</span> \n",
       "```python\n",
       "return round(num, 2)\n",
       "```"
      ],
      "text/plain": [
       "Solution: \n",
       "```python\n",
       "return round(num, 2)\n",
       "```"
      ]
     },
     "metadata": {},
     "output_type": "display_data"
    }
   ],
   "source": [
    "# Uncomment the following for a hint\n",
    "q1.hint()\n",
    "# Or uncomment the following to peek at the solution\n",
    "q1.solution()"
   ]
  },
  {
   "cell_type": "markdown",
   "id": "85a6a273",
   "metadata": {
    "papermill": {
     "duration": 0.004036,
     "end_time": "2025-01-20T20:22:02.657505",
     "exception": false,
     "start_time": "2025-01-20T20:22:02.653469",
     "status": "completed"
    },
    "tags": []
   },
   "source": [
    "# 2.\n",
    "The help for `round` says that `ndigits` (the second argument) may be negative.\n",
    "What do you think will happen when it is? Try some examples in the following cell."
   ]
  },
  {
   "cell_type": "code",
   "execution_count": 4,
   "id": "c7d38636",
   "metadata": {
    "execution": {
     "iopub.execute_input": "2025-01-20T20:22:02.667181Z",
     "iopub.status.busy": "2025-01-20T20:22:02.666859Z",
     "iopub.status.idle": "2025-01-20T20:22:02.672051Z",
     "shell.execute_reply": "2025-01-20T20:22:02.671216Z"
    },
    "papermill": {
     "duration": 0.011748,
     "end_time": "2025-01-20T20:22:02.673444",
     "exception": false,
     "start_time": "2025-01-20T20:22:02.661696",
     "status": "completed"
    },
    "tags": []
   },
   "outputs": [
    {
     "data": {
      "text/plain": [
       "10.0"
      ]
     },
     "execution_count": 4,
     "metadata": {},
     "output_type": "execute_result"
    }
   ],
   "source": [
    "# Put your test code here\n",
    "round(5.7856 , -1)"
   ]
  },
  {
   "cell_type": "markdown",
   "id": "dc2ac644",
   "metadata": {
    "papermill": {
     "duration": 0.00402,
     "end_time": "2025-01-20T20:22:02.681651",
     "exception": false,
     "start_time": "2025-01-20T20:22:02.677631",
     "status": "completed"
    },
    "tags": []
   },
   "source": [
    "Can you think of a case where this would be useful?  Once you're ready, run the code cell below to see the answer and to receive credit for completing the problem."
   ]
  },
  {
   "cell_type": "code",
   "execution_count": 5,
   "id": "0647dd19",
   "metadata": {
    "execution": {
     "iopub.execute_input": "2025-01-20T20:22:02.691060Z",
     "iopub.status.busy": "2025-01-20T20:22:02.690743Z",
     "iopub.status.idle": "2025-01-20T20:22:02.697339Z",
     "shell.execute_reply": "2025-01-20T20:22:02.696372Z"
    },
    "papermill": {
     "duration": 0.01296,
     "end_time": "2025-01-20T20:22:02.698751",
     "exception": false,
     "start_time": "2025-01-20T20:22:02.685791",
     "status": "completed"
    },
    "tags": []
   },
   "outputs": [
    {
     "data": {
      "application/javascript": [
       "parent.postMessage({\"jupyterEvent\": \"custom.exercise_interaction\", \"data\": {\"interactionType\": 3, \"questionType\": 4, \"questionId\": \"2_RoundNdigitsProblem\", \"learnToolsVersion\": \"0.3.4\", \"valueTowardsCompletion\": 0.0, \"failureMessage\": \"\", \"exceptionClass\": \"\", \"trace\": \"\", \"outcomeType\": 4}}, \"*\")"
      ],
      "text/plain": [
       "<IPython.core.display.Javascript object>"
      ]
     },
     "metadata": {},
     "output_type": "display_data"
    },
    {
     "data": {
      "text/markdown": [
       "<span style=\"color:#33cc99\">Solution:</span> As you've seen, `ndigits=-1` rounds to the nearest 10, `ndigits=-2` rounds to the nearest 100 and so on. Where might this be useful? Suppose we're dealing with large numbers:\n",
       "\n",
       "> The area of Finland is 338,424 km²  \n",
       "> The area of Greenland is 2,166,086 km²\n",
       "\n",
       "We probably don't care whether it's really 338,424, or 338,425, or 338,177. All those digits of accuracy are just distracting. We can chop them off by calling `round()` with `ndigits=-3`:\n",
       "\n",
       "> The area of Finland is 338,000 km²  \n",
       "> The area of Greenland is 2,166,000 km²\n",
       "\n",
       "(We'll talk about how we would get the commas later when we talk about string formatting :))\n"
      ],
      "text/plain": [
       "Solution: As you've seen, `ndigits=-1` rounds to the nearest 10, `ndigits=-2` rounds to the nearest 100 and so on. Where might this be useful? Suppose we're dealing with large numbers:\n",
       "\n",
       "> The area of Finland is 338,424 km²  \n",
       "> The area of Greenland is 2,166,086 km²\n",
       "\n",
       "We probably don't care whether it's really 338,424, or 338,425, or 338,177. All those digits of accuracy are just distracting. We can chop them off by calling `round()` with `ndigits=-3`:\n",
       "\n",
       "> The area of Finland is 338,000 km²  \n",
       "> The area of Greenland is 2,166,000 km²\n",
       "\n",
       "(We'll talk about how we would get the commas later when we talk about string formatting :))"
      ]
     },
     "metadata": {},
     "output_type": "display_data"
    }
   ],
   "source": [
    "# Check your answer (Run this code cell to receive credit!)\n",
    "q2.solution()"
   ]
  },
  {
   "cell_type": "markdown",
   "id": "3ed9d7fb",
   "metadata": {
    "papermill": {
     "duration": 0.004701,
     "end_time": "2025-01-20T20:22:02.708259",
     "exception": false,
     "start_time": "2025-01-20T20:22:02.703558",
     "status": "completed"
    },
    "tags": []
   },
   "source": [
    "# 3.\n",
    "\n",
    "In the previous exercise, the candy-sharing friends Alice, Bob and Carol tried to split candies evenly. For the sake of their friendship, any candies left over would be smashed. For example, if they collectively bring home 91 candies, they'll take 30 each and smash 1.\n",
    "\n",
    "Below is a simple function that will calculate the number of candies to smash for *any* number of total candies.\n",
    "\n",
    "Modify it so that it optionally takes a second argument representing the number of friends the candies are being split between. If no second argument is provided, it should assume 3 friends, as before.\n",
    "\n",
    "Update the docstring to reflect this new behaviour."
   ]
  },
  {
   "cell_type": "code",
   "execution_count": 6,
   "id": "9d667048",
   "metadata": {
    "execution": {
     "iopub.execute_input": "2025-01-20T20:22:02.718908Z",
     "iopub.status.busy": "2025-01-20T20:22:02.718579Z",
     "iopub.status.idle": "2025-01-20T20:22:02.725817Z",
     "shell.execute_reply": "2025-01-20T20:22:02.724925Z"
    },
    "papermill": {
     "duration": 0.01424,
     "end_time": "2025-01-20T20:22:02.727157",
     "exception": false,
     "start_time": "2025-01-20T20:22:02.712917",
     "status": "completed"
    },
    "tags": []
   },
   "outputs": [
    {
     "data": {
      "application/javascript": [
       "parent.postMessage({\"jupyterEvent\": \"custom.exercise_interaction\", \"data\": {\"outcomeType\": 1, \"valueTowardsCompletion\": 0.16666666666666666, \"interactionType\": 1, \"questionType\": 2, \"questionId\": \"3_CandySmashingFunctionProblem\", \"learnToolsVersion\": \"0.3.4\", \"failureMessage\": \"\", \"exceptionClass\": \"\", \"trace\": \"\"}}, \"*\")"
      ],
      "text/plain": [
       "<IPython.core.display.Javascript object>"
      ]
     },
     "metadata": {},
     "output_type": "display_data"
    },
    {
     "data": {
      "text/markdown": [
       "<span style=\"color:#33cc33\">Correct</span>"
      ],
      "text/plain": [
       "Correct"
      ]
     },
     "metadata": {},
     "output_type": "display_data"
    }
   ],
   "source": [
    "def to_smash(total_candies , no_of_friends = 3):\n",
    "    \"\"\"Return the number of leftover candies that must be smashed after distributing\n",
    "    the given number of candies evenly between 3 friends.\n",
    "    \n",
    "    >>> to_smash(91)\n",
    "    1\n",
    "    \"\"\"\n",
    "    return total_candies % no_of_friends\n",
    "\n",
    "# Check your answer\n",
    "q3.check()"
   ]
  },
  {
   "cell_type": "code",
   "execution_count": 7,
   "id": "f91a5dac",
   "metadata": {
    "execution": {
     "iopub.execute_input": "2025-01-20T20:22:02.738049Z",
     "iopub.status.busy": "2025-01-20T20:22:02.737748Z",
     "iopub.status.idle": "2025-01-20T20:22:02.744689Z",
     "shell.execute_reply": "2025-01-20T20:22:02.743735Z"
    },
    "papermill": {
     "duration": 0.013854,
     "end_time": "2025-01-20T20:22:02.746158",
     "exception": false,
     "start_time": "2025-01-20T20:22:02.732304",
     "status": "completed"
    },
    "tags": []
   },
   "outputs": [
    {
     "data": {
      "application/javascript": [
       "parent.postMessage({\"jupyterEvent\": \"custom.exercise_interaction\", \"data\": {\"interactionType\": 2, \"questionType\": 2, \"questionId\": \"3_CandySmashingFunctionProblem\", \"learnToolsVersion\": \"0.3.4\", \"valueTowardsCompletion\": 0.0, \"failureMessage\": \"\", \"exceptionClass\": \"\", \"trace\": \"\", \"outcomeType\": 4}}, \"*\")"
      ],
      "text/plain": [
       "<IPython.core.display.Javascript object>"
      ]
     },
     "metadata": {},
     "output_type": "display_data"
    },
    {
     "data": {
      "text/markdown": [
       "<span style=\"color:#3366cc\">Hint:</span> Refer to the section of the last tutorial notebook where we talked about default arguments"
      ],
      "text/plain": [
       "Hint: Refer to the section of the last tutorial notebook where we talked about default arguments"
      ]
     },
     "metadata": {},
     "output_type": "display_data"
    }
   ],
   "source": [
    "q3.hint()"
   ]
  },
  {
   "cell_type": "code",
   "execution_count": 8,
   "id": "05ccff5b",
   "metadata": {
    "execution": {
     "iopub.execute_input": "2025-01-20T20:22:02.757085Z",
     "iopub.status.busy": "2025-01-20T20:22:02.756780Z",
     "iopub.status.idle": "2025-01-20T20:22:02.763477Z",
     "shell.execute_reply": "2025-01-20T20:22:02.762497Z"
    },
    "papermill": {
     "duration": 0.014054,
     "end_time": "2025-01-20T20:22:02.765135",
     "exception": false,
     "start_time": "2025-01-20T20:22:02.751081",
     "status": "completed"
    },
    "tags": []
   },
   "outputs": [
    {
     "data": {
      "application/javascript": [
       "parent.postMessage({\"jupyterEvent\": \"custom.exercise_interaction\", \"data\": {\"interactionType\": 3, \"questionType\": 2, \"questionId\": \"3_CandySmashingFunctionProblem\", \"learnToolsVersion\": \"0.3.4\", \"valueTowardsCompletion\": 0.0, \"failureMessage\": \"\", \"exceptionClass\": \"\", \"trace\": \"\", \"outcomeType\": 4}}, \"*\")"
      ],
      "text/plain": [
       "<IPython.core.display.Javascript object>"
      ]
     },
     "metadata": {},
     "output_type": "display_data"
    },
    {
     "data": {
      "text/markdown": [
       "<span style=\"color:#33cc99\">Solution:</span> \n",
       "```python\n",
       "def to_smash(total_candies, n_friends=3):\n",
       "    return total_candies % n_friends\n",
       "```"
      ],
      "text/plain": [
       "Solution: \n",
       "```python\n",
       "def to_smash(total_candies, n_friends=3):\n",
       "    return total_candies % n_friends\n",
       "```"
      ]
     },
     "metadata": {},
     "output_type": "display_data"
    }
   ],
   "source": [
    "q3.solution()"
   ]
  },
  {
   "cell_type": "markdown",
   "id": "794c2405",
   "metadata": {
    "papermill": {
     "duration": 0.004935,
     "end_time": "2025-01-20T20:22:02.775267",
     "exception": false,
     "start_time": "2025-01-20T20:22:02.770332",
     "status": "completed"
    },
    "tags": []
   },
   "source": [
    "# 4. (Optional)\n",
    "\n",
    "It may not be fun, but reading and understanding error messages will be an important part of your Python career.\n",
    "\n",
    "Each code cell below contains some commented buggy code. For each cell...\n",
    "\n",
    "1. Read the code and predict what you think will happen when it's run.\n",
    "2. Then uncomment the code and run it to see what happens. (**Tip**: In the kernel editor, you can highlight several lines and press `ctrl`+`/` to toggle commenting.)\n",
    "3. Fix the code (so that it accomplishes its intended purpose without throwing an exception)\n",
    "\n",
    "<!-- TODO: should this be autochecked? Delta is probably pretty small. -->"
   ]
  },
  {
   "cell_type": "code",
   "execution_count": 9,
   "id": "90577b29",
   "metadata": {
    "execution": {
     "iopub.execute_input": "2025-01-20T20:22:02.787585Z",
     "iopub.status.busy": "2025-01-20T20:22:02.787239Z",
     "iopub.status.idle": "2025-01-20T20:22:02.792301Z",
     "shell.execute_reply": "2025-01-20T20:22:02.791585Z"
    },
    "papermill": {
     "duration": 0.013343,
     "end_time": "2025-01-20T20:22:02.793814",
     "exception": false,
     "start_time": "2025-01-20T20:22:02.780471",
     "status": "completed"
    },
    "tags": []
   },
   "outputs": [
    {
     "data": {
      "text/plain": [
       "10.0"
      ]
     },
     "execution_count": 9,
     "metadata": {},
     "output_type": "execute_result"
    }
   ],
   "source": [
    "# ruound_to_two_places(9.9999)\n",
    "round (9.9999, 2)"
   ]
  },
  {
   "cell_type": "code",
   "execution_count": 10,
   "id": "67b8eb1e",
   "metadata": {
    "execution": {
     "iopub.execute_input": "2025-01-20T20:22:02.805694Z",
     "iopub.status.busy": "2025-01-20T20:22:02.805348Z",
     "iopub.status.idle": "2025-01-20T20:22:02.809700Z",
     "shell.execute_reply": "2025-01-20T20:22:02.808721Z"
    },
    "papermill": {
     "duration": 0.012151,
     "end_time": "2025-01-20T20:22:02.811202",
     "exception": false,
     "start_time": "2025-01-20T20:22:02.799051",
     "status": "completed"
    },
    "tags": []
   },
   "outputs": [
    {
     "name": "stdout",
     "output_type": "stream",
     "text": [
      "5\n"
     ]
    }
   ],
   "source": [
    "x = -10\n",
    "y = 5\n",
    "# Which of the two variables above has the smallest absolute value?\n",
    "smallest_abs = min(abs(x), abs(y))\n",
    "print (smallest_abs)"
   ]
  },
  {
   "cell_type": "code",
   "execution_count": 11,
   "id": "32b64ba5",
   "metadata": {
    "execution": {
     "iopub.execute_input": "2025-01-20T20:22:02.823033Z",
     "iopub.status.busy": "2025-01-20T20:22:02.822745Z",
     "iopub.status.idle": "2025-01-20T20:22:02.827279Z",
     "shell.execute_reply": "2025-01-20T20:22:02.826258Z"
    },
    "papermill": {
     "duration": 0.012061,
     "end_time": "2025-01-20T20:22:02.828771",
     "exception": false,
     "start_time": "2025-01-20T20:22:02.816710",
     "status": "completed"
    },
    "tags": []
   },
   "outputs": [
    {
     "name": "stdout",
     "output_type": "stream",
     "text": [
      "5\n"
     ]
    }
   ],
   "source": [
    "def f(x):\n",
    "    y = abs(x)\n",
    "    return y\n",
    "\n",
    "print(f(5))"
   ]
  },
  {
   "cell_type": "markdown",
   "id": "b6f6e268",
   "metadata": {
    "papermill": {
     "duration": 0.00519,
     "end_time": "2025-01-20T20:22:02.839509",
     "exception": false,
     "start_time": "2025-01-20T20:22:02.834319",
     "status": "completed"
    },
    "tags": []
   },
   "source": [
    "# Keep Going\n",
    "\n",
    "Nice job with the code. Next up, you'll learn about *conditionals*, which you'll need to **[write interesting programs](https://www.kaggle.com/colinmorris/booleans-and-conditionals)**. "
   ]
  },
  {
   "cell_type": "markdown",
   "id": "8c3933d7",
   "metadata": {
    "papermill": {
     "duration": 0.004896,
     "end_time": "2025-01-20T20:22:02.849821",
     "exception": false,
     "start_time": "2025-01-20T20:22:02.844925",
     "status": "completed"
    },
    "tags": []
   },
   "source": [
    "---\n",
    "\n",
    "\n",
    "\n",
    "\n",
    "*Have questions or comments? Visit the [course discussion forum](https://www.kaggle.com/learn/python/discussion) to chat with other learners.*"
   ]
  }
 ],
 "metadata": {
  "kaggle": {
   "accelerator": "none",
   "dataSources": [],
   "isGpuEnabled": false,
   "isInternetEnabled": true,
   "language": "python",
   "sourceType": "notebook"
  },
  "kernelspec": {
   "display_name": "Python 3",
   "language": "python",
   "name": "python3"
  },
  "language_info": {
   "codemirror_mode": {
    "name": "ipython",
    "version": 3
   },
   "file_extension": ".py",
   "mimetype": "text/x-python",
   "name": "python",
   "nbconvert_exporter": "python",
   "pygments_lexer": "ipython3",
   "version": "3.10.12"
  },
  "papermill": {
   "default_parameters": {},
   "duration": 5.053755,
   "end_time": "2025-01-20T20:22:03.373865",
   "environment_variables": {},
   "exception": null,
   "input_path": "__notebook__.ipynb",
   "output_path": "__notebook__.ipynb",
   "parameters": {},
   "start_time": "2025-01-20T20:21:58.320110",
   "version": "2.6.0"
  }
 },
 "nbformat": 4,
 "nbformat_minor": 5
}
